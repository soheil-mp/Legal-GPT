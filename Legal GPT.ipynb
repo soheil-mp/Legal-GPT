{
 "cells": [
  {
   "cell_type": "markdown",
   "metadata": {},
   "source": [
    "<br>\n",
    "\n",
    "<h1 style=\"text-align:center;\">Legal GPT</h1>"
   ]
  },
  {
   "cell_type": "markdown",
   "metadata": {},
   "source": [
    "<br>\n",
    "\n",
    "## Introduction\n",
    "\n",
    "---\n",
    "\n",
    "This project is a legal research assistant powered by OpenAI's API and a Pinecone database. It utilizes Retrieval Augmented Generation (RAG) to efficiently search and analyze legal documents, aiding legal professionals and researchers in their work.\n"
   ]
  },
  {
   "cell_type": "markdown",
   "metadata": {},
   "source": [
    "<br>\n",
    "\n",
    "## Initial Setup\n",
    "\n",
    "---\n",
    "\n",
    "In this section, we will install the necessary dependencies, import the required libraries, and set up the environment variables for OpenAI and Pinecone."
   ]
  },
  {
   "cell_type": "code",
   "execution_count": 1,
   "metadata": {},
   "outputs": [],
   "source": [
    "!pip install -r requirements.txt"
   ]
  },
  {
   "cell_type": "code",
   "execution_count": 2,
   "metadata": {},
   "outputs": [],
   "source": [
    "# Import Libraries\n",
    "from langchain.text_splitter import RecursiveCharacterTextSplitter, HTMLHeaderTextSplitter\n",
    "from langchain.vectorstores import Pinecone\n",
    "from langchain.prompts import PromptTemplate \n",
    "from langchain_openai import ChatOpenAI, OpenAIEmbeddings\n",
    "from langchain_core.output_parsers import StrOutputParser\n",
    "from langchain_core.runnables import RunnablePassthrough\n",
    "import gradio as gr\n",
    "import openai\n",
    "import os"
   ]
  },
  {
   "cell_type": "code",
   "execution_count": 4,
   "metadata": {},
   "outputs": [],
   "source": [
    "# Set environment variables\n",
    "os.environ[\"OPENAI_API_KEY\"] = \"****\"\n",
    "os.environ[\"PINECONE_API_KEY\"] = \"****\"\n",
    "os.environ[\"PINECONE_INDEX\"] = \"dutch-law\"\n",
    "os.environ[\"PINECONE_ENVIRONMENT\"] = \"us-east-1\""
   ]
  },
  {
   "cell_type": "markdown",
   "metadata": {},
   "source": [
    "<br>\n",
    "\n",
    "## LLM and Embedding\n",
    "\n",
    "---\n",
    "\n",
    "In this section, we will establish the LLM and the embedding models utilizing OpenAI."
   ]
  },
  {
   "cell_type": "code",
   "execution_count": 5,
   "metadata": {},
   "outputs": [],
   "source": [
    "# Define the model\n",
    "llm = ChatOpenAI(model=\"gpt-3.5-turbo-1106\", temperature=0)\n",
    "\n",
    "# Define the embeddings\n",
    "embedding = OpenAIEmbeddings()"
   ]
  },
  {
   "cell_type": "markdown",
   "metadata": {},
   "source": [
    "<br>\n",
    "\n",
    "## Preprocess Data\n",
    "\n",
    "---\n",
    "\n",
    "In this section, we will retrieve and preprocess the text data."
   ]
  },
  {
   "cell_type": "code",
   "execution_count": 6,
   "metadata": {},
   "outputs": [],
   "source": [
    "# Dutch Laws URLs\n",
    "urls = [\n",
    "    \"https://wetten.overheid.nl/BWBR0011823/2024-01-01\",\n",
    "    \"https://wetten.overheid.nl/BWBR0011825/2024-04-17\",\n",
    "    \"https://wetten.overheid.nl/BWBR0003738/2023-10-01\",\n",
    "    \"https://wetten.overheid.nl/BWBR0044770/2023-01-01\",\n",
    "]"
   ]
  },
  {
   "cell_type": "code",
   "execution_count": 7,
   "metadata": {},
   "outputs": [
    {
     "data": {
      "text/plain": [
       "[Document(page_content='Direct naar content  \\nMenu  \\nU bent nu hier: Wettenbank'),\n",
       " Document(page_content='Andere sites binnen Overheid.nl  \\nAndere sites binnen Overheid.nl Eenvoudig zoeken Uitgebreid zoeken Zoeken in EU-richtlijnen', metadata={'Header 2': 'Primaire navigatie'}),\n",
       " Document(page_content='Berichten over uw Buurt')]"
      ]
     },
     "execution_count": 7,
     "metadata": {},
     "output_type": "execute_result"
    }
   ],
   "source": [
    "# Initialize the splitter (based on HTML headers)\n",
    "html_splitter = HTMLHeaderTextSplitter(\n",
    "    headers_to_split_on = [(\"h1\", \"Header 1\"), (\"h2\", \"Header 2\"), (\"h3\", \"Header 3\")]\n",
    ")\n",
    "\n",
    "# Initialize the splitter (based on characters)\n",
    "text_splitter = RecursiveCharacterTextSplitter(\n",
    "    chunk_size=1000, chunk_overlap=200\n",
    ")\n",
    "\n",
    "# Process each URL and ensure all splits are strings\n",
    "splits_l = []\n",
    "for url in urls:\n",
    "    splits = html_splitter.split_text_from_url(url)\n",
    "    splits = text_splitter.split_documents(splits)\n",
    "    splits_l.extend(splits)\n",
    "\n",
    "splits_l[:3]"
   ]
  },
  {
   "cell_type": "markdown",
   "metadata": {},
   "source": [
    "<br>\n",
    "\n",
    "## Vector Store (Pinecone)\n",
    "\n",
    "---\n",
    "\n",
    "In this section, we will insert or update (upsert) the preprocessed text data into Pinecone. If already exist, then we will load it."
   ]
  },
  {
   "cell_type": "code",
   "execution_count": 8,
   "metadata": {},
   "outputs": [],
   "source": [
    "# Flag for upserting\n",
    "upsert_flag = False\n",
    "\n",
    "# Upsert the documents to the vector store\n",
    "if upsert_flag:\n",
    "    vectorstore = Pinecone.from_documents(documents=splits_l, embedding=embedding, index_name=\"dutch-law\",)"
   ]
  },
  {
   "cell_type": "code",
   "execution_count": 9,
   "metadata": {},
   "outputs": [],
   "source": [
    "# Load document from vector store\n",
    "vectorstore = Pinecone.from_existing_index(\"dutch-law\", OpenAIEmbeddings())"
   ]
  },
  {
   "cell_type": "code",
   "execution_count": 10,
   "metadata": {},
   "outputs": [],
   "source": [
    "# Connect retriever to the vector store\n",
    "retriever = vectorstore.as_retriever()"
   ]
  },
  {
   "cell_type": "markdown",
   "metadata": {},
   "source": [
    "<br>\n",
    "\n",
    "## Prompt Template\n",
    "\n",
    "---\n",
    "\n",
    "In this section, we will build a prompt template."
   ]
  },
  {
   "cell_type": "code",
   "execution_count": 11,
   "metadata": {},
   "outputs": [],
   "source": [
    "template = \"\"\"\n",
    "      ### INSTRUCTIONS:\n",
    "      As a polite and professional AI assistant, your task is to address user queries effectively.\n",
    "\n",
    "      PLEASE ENSURE TO:\n",
    "      (0) Carefully read and understand the question and its context.\n",
    "      (1) Begin your response by affirming the question to clarify understanding.\n",
    "      (2) Provide a comprehensive, clear, and well-sourced answer. If information is unavailable, explain the limitation with: \"I couldn't find the required information based on the resources available.\"\n",
    "      (3) Cite all references inline to support your claims.\n",
    "      (4) Review your response for accuracy, helpfulness, and clarity before finalizing.\n",
    "\n",
    "      Proceed in a systematic manner.\n",
    "\n",
    "      ### QUERY:\n",
    "      #### Question: {question}\n",
    "\n",
    "      #### Context: {context}\n",
    "\n",
    "      ### RESPONSE:\n",
    "      #### Detailed Answer with References:\n",
    "\"\"\""
   ]
  },
  {
   "cell_type": "code",
   "execution_count": 12,
   "metadata": {},
   "outputs": [
    {
     "data": {
      "text/plain": [
       "PromptTemplate(input_variables=['context', 'question'], template='\\n      ### INSTRUCTIONS:\\n      As a polite and professional AI assistant, your task is to address user queries effectively.\\n\\n      PLEASE ENSURE TO:\\n      (0) Carefully read and understand the question and its context.\\n      (1) Begin your response by affirming the question to clarify understanding.\\n      (2) Provide a comprehensive, clear, and well-sourced answer. If information is unavailable, explain the limitation with: \"I couldn\\'t find the required information based on the resources available.\"\\n      (3) Cite all references inline to support your claims.\\n      (4) Review your response for accuracy, helpfulness, and clarity before finalizing.\\n\\n      Proceed in a systematic manner.\\n\\n      ### QUERY:\\n      #### Question: {question}\\n\\n      #### Context: {context}\\n\\n      ### RESPONSE:\\n      #### Detailed Answer with References:\\n')"
      ]
     },
     "execution_count": 12,
     "metadata": {},
     "output_type": "execute_result"
    }
   ],
   "source": [
    "# create prompt template\n",
    "prompt = PromptTemplate.from_template(template)\n",
    "\n",
    "prompt"
   ]
  },
  {
   "cell_type": "markdown",
   "metadata": {},
   "source": [
    "<br>\n",
    "\n",
    "## Create Chain\n",
    "\n",
    "---\n",
    "\n",
    "In this section, we will create a chain so we can invoke later on."
   ]
  },
  {
   "cell_type": "code",
   "execution_count": 13,
   "metadata": {},
   "outputs": [
    {
     "data": {
      "text/plain": [
       "{\n",
       "  context: VectorStoreRetriever(tags=['Pinecone', 'OpenAIEmbeddings'], vectorstore=<langchain_community.vectorstores.pinecone.Pinecone object at 0x000001D207DB7E50>),\n",
       "  question: RunnablePassthrough()\n",
       "}\n",
       "| PromptTemplate(input_variables=['context', 'question'], template='\\n      ### INSTRUCTIONS:\\n      As a polite and professional AI assistant, your task is to address user queries effectively.\\n\\n      PLEASE ENSURE TO:\\n      (0) Carefully read and understand the question and its context.\\n      (1) Begin your response by affirming the question to clarify understanding.\\n      (2) Provide a comprehensive, clear, and well-sourced answer. If information is unavailable, explain the limitation with: \"I couldn\\'t find the required information based on the resources available.\"\\n      (3) Cite all references inline to support your claims.\\n      (4) Review your response for accuracy, helpfulness, and clarity before finalizing.\\n\\n      Proceed in a systematic manner.\\n\\n      ### QUERY:\\n      #### Question: {question}\\n\\n      #### Context: {context}\\n\\n      ### RESPONSE:\\n      #### Detailed Answer with References:\\n')\n",
       "| ChatOpenAI(client=<openai.resources.chat.completions.Completions object at 0x000001D207D89FC0>, async_client=<openai.resources.chat.completions.AsyncCompletions object at 0x000001D207D8BB20>, model_name='gpt-3.5-turbo-1106', temperature=0.0, openai_api_key=SecretStr('**********'), openai_proxy='')\n",
       "| StrOutputParser()"
      ]
     },
     "execution_count": 13,
     "metadata": {},
     "output_type": "execute_result"
    }
   ],
   "source": [
    "# Chain the retriever, prompt, language model, and output parser\n",
    "chain = (\n",
    "    {\"context\": retriever, \"question\": RunnablePassthrough()}\n",
    "    | prompt\n",
    "    | llm\n",
    "    | StrOutputParser()\n",
    ")\n",
    "\n",
    "chain"
   ]
  },
  {
   "cell_type": "code",
   "execution_count": 14,
   "metadata": {},
   "outputs": [
    {
     "name": "stdout",
     "output_type": "stream",
     "text": [
      "The integration exam in the Netherlands consists of two main components: a test of Dutch language proficiency and an examination of knowledge of Dutch society.\n",
      "\n",
      "The Dutch language proficiency test assesses the reading, listening, and speaking skills of the individual. The exam program ensures that the individual who successfully completes the integration exam has the required skills in the Dutch language at the A1 level of the European Framework for Modern Foreign Languages (Vreemdelingenbesluit 2000).\n",
      "\n",
      "The examination of knowledge of Dutch society covers various aspects, including:\n",
      "1. Knowledge of the Netherlands, including topography, history, and state structure.\n",
      "2. Understanding of housing, education, employment, healthcare, and integration in the Netherlands.\n",
      "3. Awareness of rights and obligations upon arrival in the Netherlands.\n",
      "4. Understanding of the rights, obligations, and common social norms of others in the Netherlands (Vreemdelingenbesluit 2000).\n",
      "\n",
      "The specific content and format of the integration exam, as well as the assessment and costs associated with it, are regulated by the Minister of Social Affairs and Employment and may be further detailed by general administrative regulations (Wet inburgering 2021).\n",
      "\n",
      "It is important to note that individuals who possess specific diplomas, certificates, or documents demonstrating proficiency in certain skills or knowledge may be exempt from certain parts of the integration exam, as specified by ministerial regulations (Wet inburgering 2021).\n",
      "\n",
      "References:\n",
      "- Vreemdelingenbesluit 2000\n",
      "- Wet inburgering 2021\n"
     ]
    }
   ],
   "source": [
    "# Invoke the chain\n",
    "answer = chain.invoke(\"In Netherlands, what is the integration exam consists of?\")\n",
    "print(answer)"
   ]
  },
  {
   "cell_type": "code",
   "execution_count": 15,
   "metadata": {},
   "outputs": [
    {
     "name": "stdout",
     "output_type": "stream",
     "text": [
      "Based on the information provided, it is possible to appeal against a decision of the District Court in the Netherlands. According to the Rijkswet op het Nederlanderschap, Article 22a states that a decision to revoke Dutch citizenship can be appealed directly to the District Court in The Hague or to the Court of First Instance of the Joint Court of Justice of Aruba, Curaçao, Sint Maarten, and of Bonaire, Sint Eustatius, and Saba. The appeal must be filed within four weeks of the decision.\n",
      "\n",
      "Additionally, Article 94 of the Vreemdelingenwet 2000 also mentions the right to appeal against a decision to impose a deprivation of liberty measure. It states that the individual is deemed to have filed an appeal against the decision once the court has been notified, unless the individual has already filed an appeal.\n",
      "\n",
      "Therefore, based on the provided legal documents, it is clear that there is a provision for appealing against decisions of the District Court in the Netherlands.\n",
      "\n",
      "References:\n",
      "- Rijkswet op het Nederlanderschap\n",
      "- Vreemdelingenwet 2000\n"
     ]
    }
   ],
   "source": [
    "# Invoke the chain\n",
    "answer = chain.invoke(\"In Netherlands, is it possible to appeal against a decision of the District Court?\")\n",
    "print(answer)"
   ]
  },
  {
   "cell_type": "markdown",
   "metadata": {},
   "source": [
    "<br>\n",
    "\n",
    "## UI with Gradio\n",
    "\n",
    "---\n",
    "\n",
    "In this section, we will setup the UI with Gradio."
   ]
  },
  {
   "cell_type": "code",
   "execution_count": 16,
   "metadata": {},
   "outputs": [],
   "source": [
    "# Create a function to use in Gradio (it takes a question and returns an answer)\n",
    "def get_answer(question):\n",
    "    answer = chain.invoke(question)\n",
    "    return answer"
   ]
  },
  {
   "cell_type": "code",
   "execution_count": 17,
   "metadata": {},
   "outputs": [
    {
     "name": "stdout",
     "output_type": "stream",
     "text": [
      "Running on local URL:  http://127.0.0.1:7860\n",
      "\n",
      "Could not create share link. Please check your internet connection or our status page: https://status.gradio.app.\n"
     ]
    },
    {
     "data": {
      "text/html": [
       "<div><iframe src=\"http://127.0.0.1:7860/\" width=\"100%\" height=\"500\" allow=\"autoplay; camera; microphone; clipboard-read; clipboard-write;\" frameborder=\"0\" allowfullscreen></iframe></div>"
      ],
      "text/plain": [
       "<IPython.core.display.HTML object>"
      ]
     },
     "metadata": {},
     "output_type": "display_data"
    },
    {
     "data": {
      "text/plain": []
     },
     "execution_count": 17,
     "metadata": {},
     "output_type": "execute_result"
    }
   ],
   "source": [
    "# Create and run the Gradio interface\n",
    "iface = gr.Interface(\n",
    "    fn=get_answer, \n",
    "    inputs=gr.Textbox(value=\"Enter your question\"),\n",
    "    live=True, \n",
    "    outputs=\"markdown\",  \n",
    "    title=\"AI-Powered Dutch Lawyer\",\n",
    "    description=\"Pose any questions about Dutch laws and receive prompt answers from an AI assistant specialized in Dutch integration laws.\",\n",
    "    examples=[\n",
    "            [\"In Netherlands, what is the integration exam consists of?\"],\n",
    "            ],\n",
    "    theme=gr.themes.Soft(),\n",
    "    allow_flagging=\"never\",)\n",
    "\n",
    "iface.launch(share=True)"
   ]
  },
  {
   "cell_type": "markdown",
   "metadata": {},
   "source": [
    "### THE END"
   ]
  }
 ],
 "metadata": {
  "kernelspec": {
   "display_name": "Python 3",
   "language": "python",
   "name": "python3"
  },
  "language_info": {
   "codemirror_mode": {
    "name": "ipython",
    "version": 3
   },
   "file_extension": ".py",
   "mimetype": "text/x-python",
   "name": "python",
   "nbconvert_exporter": "python",
   "pygments_lexer": "ipython3",
   "version": "3.10.14"
  }
 },
 "nbformat": 4,
 "nbformat_minor": 2
}
